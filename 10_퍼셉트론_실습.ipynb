{
  "nbformat": 4,
  "nbformat_minor": 0,
  "metadata": {
    "colab": {
      "name": "10_퍼셉트론 실습.ipynb",
      "provenance": [],
      "collapsed_sections": [],
      "authorship_tag": "ABX9TyMX6qYgEG+ebQgktoR+WqCr",
      "include_colab_link": true
    },
    "kernelspec": {
      "name": "python3",
      "display_name": "Python 3"
    },
    "language_info": {
      "name": "python"
    }
  },
  "cells": [
    {
      "cell_type": "markdown",
      "metadata": {
        "id": "view-in-github",
        "colab_type": "text"
      },
      "source": [
        "<a href=\"https://colab.research.google.com/github/a3539a/Colab/blob/main/10_%ED%8D%BC%EC%85%89%ED%8A%B8%EB%A1%A0_%EC%8B%A4%EC%8A%B5.ipynb\" target=\"_parent\"><img src=\"https://colab.research.google.com/assets/colab-badge.svg\" alt=\"Open In Colab\"/></a>"
      ]
    },
    {
      "cell_type": "code",
      "metadata": {
        "id": "8vnVV40b8Qgi"
      },
      "source": [
        "\"\"\"\n",
        "날짜 : 2021/07/09\n",
        "이름 : 김승용\n",
        "내용 : 퍼셉트론 실습하기\n",
        "\"\"\"\n",
        "import numpy as np"
      ],
      "execution_count": 1,
      "outputs": []
    },
    {
      "cell_type": "code",
      "metadata": {
        "id": "N10skq7F8enp"
      },
      "source": [
        "# AND 연산 퍼셉트론 함수\n",
        "def AND(x1, x2):\n",
        "  x = np.array([x1, x2])\n",
        "  w = np.array([0.5, 0.5])\n",
        "  b = -0.7\n",
        "\n",
        "  y = np.sum(x * w) + b\n",
        "\n",
        "  if y <= 0:\n",
        "    return 0\n",
        "  else:\n",
        "    return 1\n",
        "\n",
        "# NAND 연산 퍼셉트론 함수\n",
        "def NAND(x1, x2):\n",
        "  x = np.array([x1, x2])\n",
        "  w = np.array([-0.5, -0.5])\n",
        "  b = 0.7\n",
        "\n",
        "  y = np.sum(x * w) + b\n",
        "\n",
        "  if y <= 0:\n",
        "    return 0\n",
        "  else:\n",
        "    return 1\n",
        "\n",
        "# OR 연산 퍼셉트론 함수\n",
        "def OR(x1, x2):\n",
        "  x = np.array([x1, x2])\n",
        "  w = np.array([2, 2])\n",
        "  b = -1\n",
        "\n",
        "  y = np.sum(x * w) + b\n",
        "\n",
        "  if y <= 0:\n",
        "    return 0\n",
        "  else:\n",
        "    return 1"
      ],
      "execution_count": 2,
      "outputs": []
    },
    {
      "cell_type": "code",
      "metadata": {
        "colab": {
          "base_uri": "https://localhost:8080/"
        },
        "id": "RY5zAJhX-IYC",
        "outputId": "b5a3d84f-f832-4d31-8cca-40ed4ba2a3a2"
      },
      "source": [
        "# 검증하기\n",
        "print('AND')\n",
        "print('0, 0 :', AND(0, 0))\n",
        "print('0, 1 :', AND(0, 1))\n",
        "print('1, 0 :', AND(1, 0))\n",
        "print('1, 1 :', AND(1, 1))\n",
        "\n",
        "print('NAND')\n",
        "print('0, 0 :', NAND(0, 0))\n",
        "print('0, 1 :', NAND(0, 1))\n",
        "print('1, 0 :', NAND(1, 0))\n",
        "print('1, 1 :', NAND(1, 1))\n",
        "\n",
        "print('OR')\n",
        "print('0, 0 :', OR(0, 0))\n",
        "print('0, 1 :', OR(0, 1))\n",
        "print('1, 0 :', OR(1, 0))\n",
        "print('1, 1 :', OR(1, 1))\n"
      ],
      "execution_count": 6,
      "outputs": [
        {
          "output_type": "stream",
          "text": [
            "AND\n",
            "0, 0 : 0\n",
            "0, 1 : 0\n",
            "1, 0 : 0\n",
            "1, 1 : 1\n",
            "NAND\n",
            "0, 0 : 1\n",
            "0, 1 : 1\n",
            "1, 0 : 1\n",
            "1, 1 : 0\n",
            "OR\n",
            "0, 0 : 0\n",
            "0, 1 : 1\n",
            "1, 0 : 1\n",
            "1, 1 : 1\n"
          ],
          "name": "stdout"
        }
      ]
    },
    {
      "cell_type": "code",
      "metadata": {
        "id": "RDy7D6V8-xJ4"
      },
      "source": [
        "# XOR 연산, 다층 퍼셉트론\n",
        "def XOR(x1, x2):\n",
        "\n",
        "  z1 = NAND(x1, x2)\n",
        "  z2 = OR(x1, x2)\n",
        "  y = AND(z1, z2)\n",
        "\n",
        "  return y"
      ],
      "execution_count": 7,
      "outputs": []
    },
    {
      "cell_type": "code",
      "metadata": {
        "colab": {
          "base_uri": "https://localhost:8080/"
        },
        "id": "P5WlZgzV_ODc",
        "outputId": "bc675fbc-a58e-4987-ae22-832bba7a0f51"
      },
      "source": [
        "# XOR 결과\n",
        "print('XOR')\n",
        "print('0, 0 :', XOR(0, 0))\n",
        "print('0, 1 :', XOR(0, 1))\n",
        "print('1, 0 :', XOR(1, 0))\n",
        "print('1, 1 :', XOR(1, 1))"
      ],
      "execution_count": 8,
      "outputs": [
        {
          "output_type": "stream",
          "text": [
            "XOR\n",
            "0, 0 : 0\n",
            "0, 1 : 1\n",
            "1, 0 : 1\n",
            "1, 1 : 0\n"
          ],
          "name": "stdout"
        }
      ]
    }
  ]
}