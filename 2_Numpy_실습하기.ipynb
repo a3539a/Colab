{
  "nbformat": 4,
  "nbformat_minor": 0,
  "metadata": {
    "colab": {
      "name": "2_Numpy 실습하기.ipynb",
      "provenance": [],
      "collapsed_sections": [],
      "authorship_tag": "ABX9TyPQIBwhC4zz6hDFJlS5/euE",
      "include_colab_link": true
    },
    "kernelspec": {
      "name": "python3",
      "display_name": "Python 3"
    },
    "language_info": {
      "name": "python"
    }
  },
  "cells": [
    {
      "cell_type": "markdown",
      "metadata": {
        "id": "view-in-github",
        "colab_type": "text"
      },
      "source": [
        "<a href=\"https://colab.research.google.com/github/a3539a/Colab/blob/main/2_Numpy_%EC%8B%A4%EC%8A%B5%ED%95%98%EA%B8%B0.ipynb\" target=\"_parent\"><img src=\"https://colab.research.google.com/assets/colab-badge.svg\" alt=\"Open In Colab\"/></a>"
      ]
    },
    {
      "cell_type": "code",
      "metadata": {
        "id": "0zwLXQCLM_bv"
      },
      "source": [
        "\"\"\"\n",
        "날짜 : 2021/07/05\n",
        "이름 : 김승용\n",
        "내용 : 파이썬 Numpy 패키지 실습하기\n",
        "\"\"\"\n",
        "import numpy as np"
      ],
      "execution_count": null,
      "outputs": []
    },
    {
      "cell_type": "code",
      "metadata": {
        "colab": {
          "base_uri": "https://localhost:8080/"
        },
        "id": "Ajq8UD3GNLG1",
        "outputId": "5c52c59b-3527-4ed5-e807-96dfb59e13ea"
      },
      "source": [
        "# numpy 자료구조 - 벡터\n",
        "v1 = np.array([1,2,3,4,5])\n",
        "print('v1 :',v1)\n",
        "\n",
        "v2 = np.arange(5)\n",
        "print('v2 :',v2)\n",
        "\n",
        "v3 = np.arange(10)\n",
        "print('v3 :',v3)"
      ],
      "execution_count": null,
      "outputs": [
        {
          "output_type": "stream",
          "text": [
            "v1 : [1 2 3 4 5]\n",
            "v2 : [0 1 2 3 4]\n",
            "v3 : [0 1 2 3 4 5 6 7 8 9]\n"
          ],
          "name": "stdout"
        }
      ]
    },
    {
      "cell_type": "code",
      "metadata": {
        "colab": {
          "base_uri": "https://localhost:8080/"
        },
        "id": "Cqn_jH9xOA09",
        "outputId": "c1b3477e-a7e1-4b12-c17e-4dd990ae8b4c"
      },
      "source": [
        "# 0 ~ 1 사이의 임의의 실수\n",
        "rand1 = np.random.rand(100)\n",
        "print(rand1)\n",
        "\n",
        "# 표준 정규 분포를 따르는 실수 100개\n",
        "rand2 = np.random.randn(100)\n",
        "print(rand2)\n",
        "\n",
        "# 0 ~ 9 사이의 임의의 정수\n",
        "rand3 = np.random.randint(10)\n",
        "print(rand3)"
      ],
      "execution_count": null,
      "outputs": [
        {
          "output_type": "stream",
          "text": [
            "[0.02940859 0.35402163 0.4135438  0.28323427 0.34992725 0.31210053\n",
            " 0.58397647 0.45286153 0.70102584 0.20231325 0.06516513 0.57521968\n",
            " 0.14276449 0.31810656 0.11598892 0.81517646 0.13831245 0.62505116\n",
            " 0.90812879 0.74964547 0.17757045 0.18926408 0.35826708 0.71645542\n",
            " 0.04908625 0.82297927 0.92745392 0.69001358 0.59400984 0.24476707\n",
            " 0.87267298 0.97694127 0.52217115 0.26060301 0.56255486 0.68532137\n",
            " 0.80482129 0.73135967 0.53797775 0.48891975 0.82718274 0.6279342\n",
            " 0.3118081  0.13966485 0.90938608 0.80296106 0.04884538 0.07606833\n",
            " 0.80028594 0.13286202 0.79632785 0.12367727 0.61621471 0.38016187\n",
            " 0.87159089 0.08674144 0.42315251 0.98589828 0.83455406 0.64334698\n",
            " 0.030392   0.0524787  0.59765681 0.78970764 0.2877221  0.16372299\n",
            " 0.56435882 0.99339859 0.40529065 0.23450106 0.55010415 0.9684377\n",
            " 0.40496467 0.67219319 0.9091969  0.50380086 0.98031231 0.5890634\n",
            " 0.37898009 0.15569144 0.4529713  0.25277161 0.45715009 0.45924887\n",
            " 0.39251313 0.14783431 0.34763569 0.12031447 0.98117445 0.63317719\n",
            " 0.22621853 0.25415557 0.95480663 0.25207402 0.58567969 0.67003731\n",
            " 0.50202227 0.30105049 0.47565338 0.78487723]\n",
            "[ 1.27777571  1.65296646  0.73577114  0.73421434 -1.07804518  0.07145088\n",
            " -0.25652506 -0.17692237 -0.959821    0.65813624  0.89834928 -0.82004355\n",
            "  0.06825223 -0.95144471  0.36900949  0.46554173 -0.3910925   2.05070405\n",
            "  0.64479769  1.45726733 -0.45033411  0.22392047 -2.14223326  0.34732225\n",
            "  0.60228016 -0.41507327 -0.02720779 -0.29942298 -0.93636275 -0.30048656\n",
            " -0.89793654  0.26291418 -0.61512551  0.95291254 -0.22737186 -0.06357495\n",
            " -0.61457655  1.26917238 -0.92055028  1.74581607  0.47480444 -1.00017294\n",
            "  0.48400647 -0.44301897  0.45673154 -0.4336653  -0.98681841  0.18697105\n",
            " -0.89113815 -0.55180786 -2.18104775  2.28042071  0.3567061   1.43834334\n",
            " -0.54573595  0.91086037  0.58011665 -1.60203794 -0.40751802  1.56077065\n",
            " -0.15899015 -2.0541134   0.42245064  0.7507389   0.22566503 -0.04359086\n",
            "  0.52640345 -0.17874512  0.74373924 -0.94700002  0.46526305 -0.98878136\n",
            " -0.01433858  0.64440137 -1.27579217 -0.71997973  1.06805635  0.87254541\n",
            " -0.60948673  0.52162436 -1.52367129  1.32788474 -0.65437292  0.53753798\n",
            " -1.17141783  1.31581868 -0.88662493 -0.35393232  0.38759479  0.8918494\n",
            " -1.0004984  -0.32556125  2.17272589  0.96100699 -0.11272329  0.34855761\n",
            "  0.4322642   0.69640788 -2.22906678 -0.8662717 ]\n",
            "3\n"
          ],
          "name": "stdout"
        }
      ]
    },
    {
      "cell_type": "code",
      "metadata": {
        "colab": {
          "base_uri": "https://localhost:8080/"
        },
        "id": "MdxeI--1N4U6",
        "outputId": "71f17798-54ca-43e8-dd7e-c7e41130a35b"
      },
      "source": [
        "# numpy 자료구조 - 행렬\n",
        "m1 = np.array([[1,2], [3,4]])\n",
        "print(m1)\n",
        "\n",
        "m2 = np.array([[1,2,3], [4,5,6], [7,8,9]])\n",
        "print(m2)\n",
        "\n",
        "m3 = np.ones([2,14])\n",
        "print(m3)\n",
        "\n",
        "m4 = np.zeros([3,12])\n",
        "print(m4)\n"
      ],
      "execution_count": null,
      "outputs": [
        {
          "output_type": "stream",
          "text": [
            "[[1 2]\n",
            " [3 4]]\n",
            "[[1 2 3]\n",
            " [4 5 6]\n",
            " [7 8 9]]\n",
            "[[1. 1. 1. 1. 1. 1. 1. 1. 1. 1. 1. 1. 1. 1.]\n",
            " [1. 1. 1. 1. 1. 1. 1. 1. 1. 1. 1. 1. 1. 1.]]\n",
            "[[0. 0. 0. 0. 0. 0. 0. 0. 0. 0. 0. 0.]\n",
            " [0. 0. 0. 0. 0. 0. 0. 0. 0. 0. 0. 0.]\n",
            " [0. 0. 0. 0. 0. 0. 0. 0. 0. 0. 0. 0.]]\n"
          ],
          "name": "stdout"
        }
      ]
    },
    {
      "cell_type": "code",
      "metadata": {
        "colab": {
          "base_uri": "https://localhost:8080/"
        },
        "id": "ZIPRsiz0N44K",
        "outputId": "cbdfc394-4f9b-4ca3-946b-6b1b2e84bda9"
      },
      "source": [
        "# 전치행렬\n",
        "print(m1.T)\n",
        "\n",
        "print(m2.transpose())"
      ],
      "execution_count": null,
      "outputs": [
        {
          "output_type": "stream",
          "text": [
            "[[1 3]\n",
            " [2 4]]\n",
            "[[1 4 7]\n",
            " [2 5 8]\n",
            " [3 6 9]]\n"
          ],
          "name": "stdout"
        }
      ]
    },
    {
      "cell_type": "code",
      "metadata": {
        "colab": {
          "base_uri": "https://localhost:8080/"
        },
        "id": "1Y4-w40PN5Mx",
        "outputId": "ef8565ee-2fd7-4cb5-b314-dcc491a2d331"
      },
      "source": [
        "# 단위행렬\n",
        "e1 = np.identity(5)\n",
        "print(e1)\n",
        "\n",
        "e2 = np.identity(6)\n",
        "print(e2)"
      ],
      "execution_count": null,
      "outputs": [
        {
          "output_type": "stream",
          "text": [
            "[[1. 0. 0. 0. 0.]\n",
            " [0. 1. 0. 0. 0.]\n",
            " [0. 0. 1. 0. 0.]\n",
            " [0. 0. 0. 1. 0.]\n",
            " [0. 0. 0. 0. 1.]]\n",
            "[[1. 0. 0. 0. 0. 0.]\n",
            " [0. 1. 0. 0. 0. 0.]\n",
            " [0. 0. 1. 0. 0. 0.]\n",
            " [0. 0. 0. 1. 0. 0.]\n",
            " [0. 0. 0. 0. 1. 0.]\n",
            " [0. 0. 0. 0. 0. 1.]]\n"
          ],
          "name": "stdout"
        }
      ]
    },
    {
      "cell_type": "code",
      "metadata": {
        "colab": {
          "base_uri": "https://localhost:8080/"
        },
        "id": "FqblgbHON5YR",
        "outputId": "3d65db3b-52c1-4440-9f2a-6163d6d253f9"
      },
      "source": [
        "# 역행렬\n",
        "im1 = np.linalg.inv(m1)\n",
        "print(im1)\n",
        "\n",
        "result = m1.dot(im1)\n",
        "print(result.round())"
      ],
      "execution_count": null,
      "outputs": [
        {
          "output_type": "stream",
          "text": [
            "[[-2.   1. ]\n",
            " [ 1.5 -0.5]]\n",
            "[[1. 0.]\n",
            " [0. 1.]]\n"
          ],
          "name": "stdout"
        }
      ]
    },
    {
      "cell_type": "code",
      "metadata": {
        "colab": {
          "base_uri": "https://localhost:8080/"
        },
        "id": "U2aJrAVnN5hY",
        "outputId": "af62c809-c1d3-42ee-cee9-2466226b2d3e"
      },
      "source": [
        "# 행렬 인덱싱\n",
        "matrix = np.array([[1,2,3,4],[5,6,7,8],[9,10,11,12]])\n",
        "print(matrix)\n",
        "\n",
        "print(matrix[0,0])\n",
        "print(matrix[0,:])\n",
        "print(matrix[:,0])\n",
        "\n",
        "print(matrix[0:2, 0:2])\n",
        "print(matrix[:, 0:2])\n",
        "print(matrix[:, 2:4])\n",
        "print(matrix[1:3, 1:3])"
      ],
      "execution_count": null,
      "outputs": [
        {
          "output_type": "stream",
          "text": [
            "[[ 1  2  3  4]\n",
            " [ 5  6  7  8]\n",
            " [ 9 10 11 12]]\n",
            "1\n",
            "[1 2 3 4]\n",
            "[1 5 9]\n",
            "[[1 2]\n",
            " [5 6]]\n",
            "[[ 1  2]\n",
            " [ 5  6]\n",
            " [ 9 10]]\n",
            "[[ 3  4]\n",
            " [ 7  8]\n",
            " [11 12]]\n",
            "[[ 6  7]\n",
            " [10 11]]\n"
          ],
          "name": "stdout"
        }
      ]
    }
  ]
}