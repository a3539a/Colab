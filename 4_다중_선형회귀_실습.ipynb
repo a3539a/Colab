{
  "nbformat": 4,
  "nbformat_minor": 0,
  "metadata": {
    "colab": {
      "name": "4_다중 선형회귀 실습.ipynb",
      "provenance": [],
      "collapsed_sections": [],
      "authorship_tag": "ABX9TyPp5VxaSQ6XwNjpBGqg8mpW",
      "include_colab_link": true
    },
    "kernelspec": {
      "name": "python3",
      "display_name": "Python 3"
    },
    "language_info": {
      "name": "python"
    }
  },
  "cells": [
    {
      "cell_type": "markdown",
      "metadata": {
        "id": "view-in-github",
        "colab_type": "text"
      },
      "source": [
        "<a href=\"https://colab.research.google.com/github/a3539a/Colab/blob/main/4_%EB%8B%A4%EC%A4%91_%EC%84%A0%ED%98%95%ED%9A%8C%EA%B7%80_%EC%8B%A4%EC%8A%B5.ipynb\" target=\"_parent\"><img src=\"https://colab.research.google.com/assets/colab-badge.svg\" alt=\"Open In Colab\"/></a>"
      ]
    },
    {
      "cell_type": "code",
      "metadata": {
        "id": "0OFOiMOTjJ6U"
      },
      "source": [
        "\"\"\"\n",
        "날짜 : 2021/07/07\n",
        "이름 : 김승용\n",
        "내용 : 다중 선형회귀 분석 실습하기\n",
        "\"\"\"\n",
        "from sklearn.linear_model import LinearRegression\n",
        "from sklearn import svm"
      ],
      "execution_count": 5,
      "outputs": []
    },
    {
      "cell_type": "code",
      "metadata": {
        "id": "vyesOP9RjecL"
      },
      "source": [
        "# 학습데이터\n",
        "train_data = [[170, 30], [155, 60], [150, 50], [175,40], [165, 20]]\n",
        "train_label = [65, 50, 45, 70, 55]"
      ],
      "execution_count": 2,
      "outputs": []
    },
    {
      "cell_type": "code",
      "metadata": {
        "colab": {
          "base_uri": "https://localhost:8080/"
        },
        "id": "INhPqfAbjwzV",
        "outputId": "4faff630-e9ac-4de8-bfd9-de8288fe1698"
      },
      "source": [
        "# 학습하기\n",
        "model = LinearRegression()\n",
        "\n",
        "#model = svm.SVC()\n",
        "\n",
        "model.fit(train_data, train_label)"
      ],
      "execution_count": 15,
      "outputs": [
        {
          "output_type": "execute_result",
          "data": {
            "text/plain": [
              "LinearRegression(copy_X=True, fit_intercept=True, n_jobs=None, normalize=False)"
            ]
          },
          "metadata": {
            "tags": []
          },
          "execution_count": 15
        }
      ]
    },
    {
      "cell_type": "code",
      "metadata": {
        "colab": {
          "base_uri": "https://localhost:8080/"
        },
        "id": "GtOL60y2kUTg",
        "outputId": "94f92bf4-aa43-43ff-ff4b-03e23354bcbb"
      },
      "source": [
        "# 테스트하기\n",
        "test_data = [[172, 21],[186, 48],[178, 39]]\n",
        "result = model.predict(test_data)\n",
        "result"
      ],
      "execution_count": 16,
      "outputs": [
        {
          "output_type": "execute_result",
          "data": {
            "text/plain": [
              "array([64.25555556, 83.71111111, 73.52222222])"
            ]
          },
          "metadata": {
            "tags": []
          },
          "execution_count": 16
        }
      ]
    },
    {
      "cell_type": "code",
      "metadata": {
        "id": "8gKBQNMglQC-"
      },
      "source": [
        "# 학습데이터\n",
        "train_data2 = [[170, 30, 1], [155, 60, 2], [150, 50, 2], [175,40, 1], [165, 20, 1]]\n",
        "train_label2 = [65, 50, 45, 70, 55]\n"
      ],
      "execution_count": 17,
      "outputs": []
    },
    {
      "cell_type": "code",
      "metadata": {
        "colab": {
          "base_uri": "https://localhost:8080/"
        },
        "id": "E698J8r-lkdW",
        "outputId": "478f657a-62ad-41bb-9349-5af50a4c81d6"
      },
      "source": [
        "# 학습하기\n",
        "model = LinearRegression()\n",
        "\n",
        "#model = svm.SVC()\n",
        "\n",
        "model.fit(train_data2, train_label2)"
      ],
      "execution_count": 18,
      "outputs": [
        {
          "output_type": "execute_result",
          "data": {
            "text/plain": [
              "LinearRegression(copy_X=True, fit_intercept=True, n_jobs=None, normalize=False)"
            ]
          },
          "metadata": {
            "tags": []
          },
          "execution_count": 18
        }
      ]
    },
    {
      "cell_type": "code",
      "metadata": {
        "colab": {
          "base_uri": "https://localhost:8080/"
        },
        "id": "4iwG9TuJlqR5",
        "outputId": "8052c737-4314-4ab1-c315-d963f4675f6c"
      },
      "source": [
        "# 테스트하기\n",
        "test_data2 = [[201, 48, 2],[122, 110, 2],[199, 39, 1]]\n",
        "result = model.predict(test_data2)\n",
        "result"
      ],
      "execution_count": 20,
      "outputs": [
        {
          "output_type": "execute_result",
          "data": {
            "text/plain": [
              "array([100.31783634,  21.62241331,  96.82731392])"
            ]
          },
          "metadata": {
            "tags": []
          },
          "execution_count": 20
        }
      ]
    },
    {
      "cell_type": "code",
      "metadata": {
        "id": "g9naOxu4l7eq"
      },
      "source": [
        ""
      ],
      "execution_count": null,
      "outputs": []
    }
  ]
}