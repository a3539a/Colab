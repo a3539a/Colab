{
  "nbformat": 4,
  "nbformat_minor": 0,
  "metadata": {
    "colab": {
      "name": "8_결정트리 실습.ipynb",
      "provenance": [],
      "collapsed_sections": [],
      "mount_file_id": "1XFkGHVZljIkItMX32GyedHtExCPKeWC3",
      "authorship_tag": "ABX9TyPCwJxIbjlq+PP9vKJlwk0k",
      "include_colab_link": true
    },
    "kernelspec": {
      "name": "python3",
      "display_name": "Python 3"
    },
    "language_info": {
      "name": "python"
    }
  },
  "cells": [
    {
      "cell_type": "markdown",
      "metadata": {
        "id": "view-in-github",
        "colab_type": "text"
      },
      "source": [
        "<a href=\"https://colab.research.google.com/github/a3539a/Colab/blob/main/8_%EA%B2%B0%EC%A0%95%ED%8A%B8%EB%A6%AC_%EC%8B%A4%EC%8A%B5.ipynb\" target=\"_parent\"><img src=\"https://colab.research.google.com/assets/colab-badge.svg\" alt=\"Open In Colab\"/></a>"
      ]
    },
    {
      "cell_type": "code",
      "metadata": {
        "id": "VCt8me-7tI9p"
      },
      "source": [
        "\"\"\"\n",
        "날짜 : 2021/07/09\n",
        "이름 : 김승용\n",
        "내용 : 머신러닝 결정트리 실습하기\n",
        "\"\"\"\n",
        "from sklearn import tree\n",
        "import pydotplus\n",
        "from google.colab import drive"
      ],
      "execution_count": 6,
      "outputs": []
    },
    {
      "cell_type": "code",
      "metadata": {
        "id": "jJyyniKItt2s"
      },
      "source": [
        "# 데이터 준비\n",
        "train_data = [[180,70],[167,52],[159,62],[174,65],[172,58],\n",
        "              [162,58],[177,62],[186,72],[175,60],[156,52]]\n",
        "\n",
        "train_label = [1,2,2,1,2,2,1,1,2,2]"
      ],
      "execution_count": 2,
      "outputs": []
    },
    {
      "cell_type": "code",
      "metadata": {
        "colab": {
          "base_uri": "https://localhost:8080/"
        },
        "id": "xINgxxCpuSyN",
        "outputId": "2ae6daec-b750-422c-8da7-6ce28e1bc227"
      },
      "source": [
        "# 학습하기\n",
        "model = tree.DecisionTreeClassifier()\n",
        "model.fit(train_data,train_label)"
      ],
      "execution_count": 3,
      "outputs": [
        {
          "output_type": "execute_result",
          "data": {
            "text/plain": [
              "DecisionTreeClassifier(ccp_alpha=0.0, class_weight=None, criterion='gini',\n",
              "                       max_depth=None, max_features=None, max_leaf_nodes=None,\n",
              "                       min_impurity_decrease=0.0, min_impurity_split=None,\n",
              "                       min_samples_leaf=1, min_samples_split=2,\n",
              "                       min_weight_fraction_leaf=0.0, presort='deprecated',\n",
              "                       random_state=None, splitter='best')"
            ]
          },
          "metadata": {
            "tags": []
          },
          "execution_count": 3
        }
      ]
    },
    {
      "cell_type": "code",
      "metadata": {
        "colab": {
          "base_uri": "https://localhost:8080/"
        },
        "id": "ad9e4iE_ucwO",
        "outputId": "f1024394-b609-4bc3-cc4a-caad491117d1"
      },
      "source": [
        "# 테스트 하기\n",
        "test_data = [[181,62],[171,62],[164,52],[160,64],[169,59]]\n",
        "result = model.predict(test_data)\n",
        "result"
      ],
      "execution_count": 5,
      "outputs": [
        {
          "output_type": "execute_result",
          "data": {
            "text/plain": [
              "array([1, 1, 2, 2, 2])"
            ]
          },
          "metadata": {
            "tags": []
          },
          "execution_count": 5
        }
      ]
    },
    {
      "cell_type": "code",
      "metadata": {
        "colab": {
          "base_uri": "https://localhost:8080/"
        },
        "id": "xKfk-cJtu05R",
        "outputId": "fa9ff8c0-4b10-4abc-efae-bf567289696c"
      },
      "source": [
        "# 모델 시각화\n",
        "graph_tree = tree.export_graphviz(model, out_file=None, feature_names=['height', 'weight'],\n",
        "                                  filled=True)\n",
        "\n",
        "graph = pydotplus.graph_from_dot_data(graph_tree)\n",
        "graph.write_png('/content/drive/MyDrive/Colab Notebooks/file/result_tree.png')"
      ],
      "execution_count": 8,
      "outputs": [
        {
          "output_type": "execute_result",
          "data": {
            "text/plain": [
              "True"
            ]
          },
          "metadata": {
            "tags": []
          },
          "execution_count": 8
        }
      ]
    },
    {
      "cell_type": "code",
      "metadata": {
        "id": "gGgMR7-_v_ZJ"
      },
      "source": [
        ""
      ],
      "execution_count": null,
      "outputs": []
    }
  ]
}