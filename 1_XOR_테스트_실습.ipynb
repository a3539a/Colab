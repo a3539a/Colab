{
  "nbformat": 4,
  "nbformat_minor": 0,
  "metadata": {
    "colab": {
      "name": "1_XOR 테스트 실습.ipynb",
      "provenance": [],
      "collapsed_sections": [],
      "authorship_tag": "ABX9TyPuX4z4IU7qnUACdkEZ72Ny",
      "include_colab_link": true
    },
    "kernelspec": {
      "name": "python3",
      "display_name": "Python 3"
    },
    "language_info": {
      "name": "python"
    }
  },
  "cells": [
    {
      "cell_type": "markdown",
      "metadata": {
        "id": "view-in-github",
        "colab_type": "text"
      },
      "source": [
        "<a href=\"https://colab.research.google.com/github/a3539a/Colab/blob/main/1_XOR_%ED%85%8C%EC%8A%A4%ED%8A%B8_%EC%8B%A4%EC%8A%B5.ipynb\" target=\"_parent\"><img src=\"https://colab.research.google.com/assets/colab-badge.svg\" alt=\"Open In Colab\"/></a>"
      ]
    },
    {
      "cell_type": "code",
      "metadata": {
        "id": "Ak8NDbxeoX4Y"
      },
      "source": [
        "\"\"\"\n",
        "날짜 : 2021/07/06\n",
        "이름 : 김승용\n",
        "내용 : 머신러닝 XOR 테스트 실습하기\n",
        "\"\"\"\n",
        "from sklearn import svm"
      ],
      "execution_count": 2,
      "outputs": []
    },
    {
      "cell_type": "code",
      "metadata": {
        "id": "Isi6l-pFqGUT"
      },
      "source": [
        "# 학습 데이터, 학습 라벨 준비\n",
        "train_data = [[0,0],[0,1],[1,0],[1,1]]\n",
        "train_label = [0,1,1,0]"
      ],
      "execution_count": 3,
      "outputs": []
    },
    {
      "cell_type": "code",
      "metadata": {
        "colab": {
          "base_uri": "https://localhost:8080/"
        },
        "id": "ia5t-RdvqoVA",
        "outputId": "8b5a046a-446b-487e-e607-52de6f6a5fc7"
      },
      "source": [
        "# 학습하기\n",
        "model = svm.SVC()\n",
        "model.fit(train_data, train_label)"
      ],
      "execution_count": 4,
      "outputs": [
        {
          "output_type": "execute_result",
          "data": {
            "text/plain": [
              "SVC(C=1.0, break_ties=False, cache_size=200, class_weight=None, coef0=0.0,\n",
              "    decision_function_shape='ovr', degree=3, gamma='scale', kernel='rbf',\n",
              "    max_iter=-1, probability=False, random_state=None, shrinking=True,\n",
              "    tol=0.001, verbose=False)"
            ]
          },
          "metadata": {
            "tags": []
          },
          "execution_count": 4
        }
      ]
    },
    {
      "cell_type": "code",
      "metadata": {
        "colab": {
          "base_uri": "https://localhost:8080/"
        },
        "id": "VywYiML1q10O",
        "outputId": "183d3f66-283c-462d-8958-c9af57a3bf34"
      },
      "source": [
        "# 테스트하기\n",
        "test_data = [[1,1],[0,1],[1,0],[0,1],[0,0]]\n",
        "result = model.predict(test_data)\n",
        "result"
      ],
      "execution_count": 5,
      "outputs": [
        {
          "output_type": "execute_result",
          "data": {
            "text/plain": [
              "array([0, 1, 1, 1, 0])"
            ]
          },
          "metadata": {
            "tags": []
          },
          "execution_count": 5
        }
      ]
    }
  ]
}