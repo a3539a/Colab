{
  "nbformat": 4,
  "nbformat_minor": 0,
  "metadata": {
    "colab": {
      "name": "3_6_텐서플로 CNN 모델 사용.ipynb",
      "provenance": [],
      "collapsed_sections": [],
      "mount_file_id": "11tUSiV-nLnXM5oYMjZZbuW7rec1b4eGq",
      "authorship_tag": "ABX9TyPa+bbyu10xodzvXRy0JbAH",
      "include_colab_link": true
    },
    "kernelspec": {
      "name": "python3",
      "display_name": "Python 3"
    },
    "language_info": {
      "name": "python"
    },
    "accelerator": "GPU"
  },
  "cells": [
    {
      "cell_type": "markdown",
      "metadata": {
        "id": "view-in-github",
        "colab_type": "text"
      },
      "source": [
        "<a href=\"https://colab.research.google.com/github/a3539a/Colab/blob/main/3_6_%ED%85%90%EC%84%9C%ED%94%8C%EB%A1%9C_CNN_%EB%AA%A8%EB%8D%B8_%EC%82%AC%EC%9A%A9.ipynb\" target=\"_parent\"><img src=\"https://colab.research.google.com/assets/colab-badge.svg\" alt=\"Open In Colab\"/></a>"
      ]
    },
    {
      "cell_type": "code",
      "metadata": {
        "colab": {
          "base_uri": "https://localhost:8080/",
          "height": 36
        },
        "id": "4AmQ5yruq_ZV",
        "outputId": "15d3a1ac-ba72-40fa-9f2a-4ce764a97949"
      },
      "source": [
        "\"\"\"\n",
        "날짜 : 2021/07/13\n",
        "이름 : 김승용\n",
        "내용 : 텐서플로 Cifar CNN 모델 사용하기\n",
        "\"\"\"\n",
        "import tensorflow as tf\n",
        "from tensorflow.keras.datasets.cifar10 import load_data\n",
        "from tensorflow.keras.models import load_model\n",
        "from google.colab import drive\n",
        "from tensorflow.keras.utils import to_categorical\n",
        "tf.__version__"
      ],
      "execution_count": 5,
      "outputs": [
        {
          "output_type": "execute_result",
          "data": {
            "application/vnd.google.colaboratory.intrinsic+json": {
              "type": "string"
            },
            "text/plain": [
              "'2.5.0'"
            ]
          },
          "metadata": {
            "tags": []
          },
          "execution_count": 5
        }
      ]
    },
    {
      "cell_type": "code",
      "metadata": {
        "id": "p0jwUxBwsqS7"
      },
      "source": [
        "# 데이터 로드\n",
        "(cifar_train_data, cifar_train_label), (cifar_test_data, cifar_test_label) = load_data()"
      ],
      "execution_count": null,
      "outputs": []
    },
    {
      "cell_type": "code",
      "metadata": {
        "id": "VZ9bc9tHsoyf"
      },
      "source": [
        "# 모델 학습을 위한 데이터 전처리(정규화)\n",
        "cifar_train_data = cifar_train_data / 255\n",
        "cifar_test_data  = cifar_test_data / 255\n",
        "\n",
        "# 데이터의 라벨을 범주형(one-hot encoding) 으로 변환\n",
        "cifar_train_label = to_categorical(cifar_train_label)\n",
        "cifar_test_label  = to_categorical(cifar_test_label)"
      ],
      "execution_count": null,
      "outputs": []
    },
    {
      "cell_type": "code",
      "metadata": {
        "id": "MOkLCIuure3L",
        "colab": {
          "base_uri": "https://localhost:8080/"
        },
        "outputId": "4c6bedc4-bdd2-4499-f3a5-913523e472af"
      },
      "source": [
        "model = load_model('/content/drive/MyDrive/Colab Notebooks/file/cifar_model.h5')\n",
        "model.summary()"
      ],
      "execution_count": 10,
      "outputs": [
        {
          "output_type": "stream",
          "text": [
            "Model: \"sequential_3\"\n",
            "_________________________________________________________________\n",
            "Layer (type)                 Output Shape              Param #   \n",
            "=================================================================\n",
            "conv2d_18 (Conv2D)           (None, 32, 32, 32)        896       \n",
            "_________________________________________________________________\n",
            "conv2d_19 (Conv2D)           (None, 32, 32, 32)        9248      \n",
            "_________________________________________________________________\n",
            "max_pooling2d_9 (MaxPooling2 (None, 16, 16, 32)        0         \n",
            "_________________________________________________________________\n",
            "dropout (Dropout)            (None, 16, 16, 32)        0         \n",
            "_________________________________________________________________\n",
            "conv2d_20 (Conv2D)           (None, 16, 16, 64)        18496     \n",
            "_________________________________________________________________\n",
            "conv2d_21 (Conv2D)           (None, 16, 16, 64)        36928     \n",
            "_________________________________________________________________\n",
            "max_pooling2d_10 (MaxPooling (None, 8, 8, 64)          0         \n",
            "_________________________________________________________________\n",
            "dropout_1 (Dropout)          (None, 8, 8, 64)          0         \n",
            "_________________________________________________________________\n",
            "conv2d_22 (Conv2D)           (None, 8, 8, 128)         73856     \n",
            "_________________________________________________________________\n",
            "conv2d_23 (Conv2D)           (None, 8, 8, 128)         147584    \n",
            "_________________________________________________________________\n",
            "max_pooling2d_11 (MaxPooling (None, 4, 4, 128)         0         \n",
            "_________________________________________________________________\n",
            "dropout_2 (Dropout)          (None, 4, 4, 128)         0         \n",
            "_________________________________________________________________\n",
            "flatten_2 (Flatten)          (None, 2048)              0         \n",
            "_________________________________________________________________\n",
            "dense_4 (Dense)              (None, 256)               524544    \n",
            "_________________________________________________________________\n",
            "dense_5 (Dense)              (None, 10)                2570      \n",
            "=================================================================\n",
            "Total params: 814,122\n",
            "Trainable params: 814,122\n",
            "Non-trainable params: 0\n",
            "_________________________________________________________________\n"
          ],
          "name": "stdout"
        }
      ]
    },
    {
      "cell_type": "code",
      "metadata": {
        "colab": {
          "base_uri": "https://localhost:8080/"
        },
        "id": "IZBAHLoWsbBo",
        "outputId": "2dc76a3f-27b4-4710-bdd2-e342602b2299"
      },
      "source": [
        "# 평가하기\n",
        "model.evaluate(cifar_test_data, cifar_test_label)"
      ],
      "execution_count": 7,
      "outputs": [
        {
          "output_type": "stream",
          "text": [
            "313/313 [==============================] - 29s 4ms/step - loss: 0.8196 - acc: 0.8022\n"
          ],
          "name": "stdout"
        },
        {
          "output_type": "execute_result",
          "data": {
            "text/plain": [
              "[0.8196077346801758, 0.8022000193595886]"
            ]
          },
          "metadata": {
            "tags": []
          },
          "execution_count": 7
        }
      ]
    }
  ]
}